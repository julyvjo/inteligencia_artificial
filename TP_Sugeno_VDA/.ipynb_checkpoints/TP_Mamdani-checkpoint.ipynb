{
 "cells": [
  {
   "cell_type": "markdown",
   "id": "915c5234",
   "metadata": {},
   "source": [
    "# ACTIVIDAD 2b -Mamdani- (opcional - puntuación extra)\n",
    "\n",
    "Un docente le solicita que automatice el proceso de puntuación de su materia. La materia consta de un único examen, puntuado entre 0 y 100, y además una nota de concepto con tres valores (regular, bueno, excelente). \n",
    "\n",
    "Diseñe un FIS Mamdani que permita modificar la nota final (1-10) combinando ambas variables de entrada.\n",
    "Recuerde que la nota de concepto sólo modula la nota del examen. Es decir, la nota del examen tiene más peso en el resultado final que el concepto. No obstante, la nota de concepto debe influir en la puntuación final.\n",
    "Explicite las reglas que ha elegido para esta tarea, y dé ejemplos de valores de entrada y salida."
   ]
  },
  {
   "cell_type": "code",
   "execution_count": null,
   "id": "f3b91fd1",
   "metadata": {},
   "outputs": [],
   "source": []
  }
 ],
 "metadata": {
  "kernelspec": {
   "display_name": "Python 3 (ipykernel)",
   "language": "python",
   "name": "python3"
  },
  "language_info": {
   "codemirror_mode": {
    "name": "ipython",
    "version": 3
   },
   "file_extension": ".py",
   "mimetype": "text/x-python",
   "name": "python",
   "nbconvert_exporter": "python",
   "pygments_lexer": "ipython3",
   "version": "3.11.4"
  }
 },
 "nbformat": 4,
 "nbformat_minor": 5
}
