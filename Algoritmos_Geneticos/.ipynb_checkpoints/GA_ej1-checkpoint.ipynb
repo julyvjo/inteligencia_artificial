{
 "cells": [
  {
   "cell_type": "code",
   "execution_count": 1,
   "id": "8564f905",
   "metadata": {
    "scrolled": true
   },
   "outputs": [
    {
     "name": "stdout",
     "output_type": "stream",
     "text": [
      "Collecting pygad==2.3.0\n",
      "  Downloading pygad-2.3.0-py3-none-any.whl (30 kB)\n",
      "Requirement already satisfied: numpy in /home/julian/anaconda3/lib/python3.11/site-packages (from pygad==2.3.0) (1.24.3)\n",
      "Requirement already satisfied: matplotlib in /home/julian/anaconda3/lib/python3.11/site-packages (from pygad==2.3.0) (3.7.1)\n",
      "Requirement already satisfied: contourpy>=1.0.1 in /home/julian/anaconda3/lib/python3.11/site-packages (from matplotlib->pygad==2.3.0) (1.0.5)\n",
      "Requirement already satisfied: cycler>=0.10 in /home/julian/anaconda3/lib/python3.11/site-packages (from matplotlib->pygad==2.3.0) (0.11.0)\n",
      "Requirement already satisfied: fonttools>=4.22.0 in /home/julian/anaconda3/lib/python3.11/site-packages (from matplotlib->pygad==2.3.0) (4.25.0)\n",
      "Requirement already satisfied: kiwisolver>=1.0.1 in /home/julian/anaconda3/lib/python3.11/site-packages (from matplotlib->pygad==2.3.0) (1.4.4)\n",
      "Requirement already satisfied: packaging>=20.0 in /home/julian/anaconda3/lib/python3.11/site-packages (from matplotlib->pygad==2.3.0) (23.0)\n",
      "Requirement already satisfied: pillow>=6.2.0 in /home/julian/anaconda3/lib/python3.11/site-packages (from matplotlib->pygad==2.3.0) (9.4.0)\n",
      "Requirement already satisfied: pyparsing>=2.3.1 in /home/julian/anaconda3/lib/python3.11/site-packages (from matplotlib->pygad==2.3.0) (3.0.9)\n",
      "Requirement already satisfied: python-dateutil>=2.7 in /home/julian/anaconda3/lib/python3.11/site-packages (from matplotlib->pygad==2.3.0) (2.8.2)\n",
      "Requirement already satisfied: six>=1.5 in /home/julian/anaconda3/lib/python3.11/site-packages (from python-dateutil>=2.7->matplotlib->pygad==2.3.0) (1.16.0)\n",
      "Installing collected packages: pygad\n",
      "Successfully installed pygad-2.3.0\n",
      "Note: you may need to restart the kernel to use updated packages.\n"
     ]
    }
   ],
   "source": [
    "!pip install pygad==2.3.0"
   ]
  },
  {
   "cell_type": "code",
   "execution_count": 34,
   "id": "120983bc",
   "metadata": {},
   "outputs": [
    {
     "name": "stdout",
     "output_type": "stream",
     "text": [
      "2.3.0\n"
     ]
    }
   ],
   "source": [
    "import pygad\n",
    "import numpy as np\n",
    "print(pygad.__version__)\n",
    "\n",
    "def callback_generation2(ga_instance):\n",
    "    global last_fitness\n",
    "    print(\"Generation = {generation}\".format(generation=ga_instance.generations_completed))\n",
    "    print(\"Fitness    = {fitness}\".format(fitness=ga_instance.best_solution()[1]))\n",
    "    print(\"Change     = {change}\".format(change=(ga_instance.best_solution()[1] - last_fitness)))\n",
    "    last_fitness = ga_instance.best_solution()[1]\n",
    "\n",
    "def bin2dec(binario):\n",
    "    decimal = 0\n",
    "    for bit in binario:\n",
    "        decimal = decimal * 2 + bit\n",
    "    return decimal\n",
    "\n",
    "def fitness_func(solution, idx):\n",
    "    #convertir x a decimal y evaluar\n",
    "    x = bin2dec(solution)\n",
    "    return 300 - (x - 15)**2"
   ]
  },
  {
   "cell_type": "code",
   "execution_count": 44,
   "id": "de750572",
   "metadata": {},
   "outputs": [
    {
     "name": "stdout",
     "output_type": "stream",
     "text": [
      "[[0 0 0 1 0]\n",
      " [0 1 0 1 0]\n",
      " [0 0 0 0 0]\n",
      " [1 0 0 0 1]]\n"
     ]
    }
   ],
   "source": [
    "num_genes = 5  # Número de genes en cada individuo\n",
    "sol_per_pop = 4  # Número de individuos en la población\n",
    "\n",
    "# Crear una matriz 2D de forma (sol_per_pop, num_genes) con valores binarios aleatorios (0 o 1)\n",
    "custom_initial_population = np.random.randint(2, size=(sol_per_pop, num_genes))\n",
    "fitness_function = fitness_func\n",
    "num_generations = 30\n",
    "num_parents_mating = 2\n",
    "parent_selection_type = \"sss\"\n",
    "keep_parents = 2\n",
    "crossover_type = \"single_point\"\n",
    "mutation_type = \"random\"\n",
    "mutation_percent_genes = 10\n",
    "last_fitness = 0\n",
    "\n",
    "print(custom_initial_population)\n",
    "\n",
    "ga_instance = pygad.GA(num_generations=num_generations,\n",
    "                       num_parents_mating=num_parents_mating,\n",
    "                       fitness_func=fitness_function,\n",
    "                       sol_per_pop=sol_per_pop,\n",
    "                       num_genes=num_genes,\n",
    "                       parent_selection_type=parent_selection_type,\n",
    "                       keep_parents=keep_parents,\n",
    "                       crossover_type=crossover_type,\n",
    "                       mutation_type=mutation_type,\n",
    "                       mutation_percent_genes=mutation_percent_genes,\n",
    "                       callback_generation=callback_generation2)\n",
    "\n",
    "ga_instance.population = custom_initial_population\n"
   ]
  },
  {
   "cell_type": "code",
   "execution_count": 45,
   "id": "9238130f",
   "metadata": {},
   "outputs": [
    {
     "name": "stdout",
     "output_type": "stream",
     "text": [
      "Generation = 1\n",
      "Fitness    = 299\n",
      "Change     = 299\n",
      "Generation = 2\n",
      "Fitness    = 299\n",
      "Change     = 0\n",
      "Generation = 3\n",
      "Fitness    = 299\n",
      "Change     = 0\n",
      "Generation = 4\n",
      "Fitness    = 299\n",
      "Change     = 0\n",
      "Generation = 5\n",
      "Fitness    = 299\n",
      "Change     = 0\n",
      "Generation = 6\n",
      "Fitness    = 299\n",
      "Change     = 0\n",
      "Generation = 7\n",
      "Fitness    = 299\n",
      "Change     = 0\n",
      "Generation = 8\n",
      "Fitness    = 299\n",
      "Change     = 0\n",
      "Generation = 9\n",
      "Fitness    = 299\n",
      "Change     = 0\n",
      "Generation = 10\n",
      "Fitness    = 299\n",
      "Change     = 0\n",
      "Generation = 11\n",
      "Fitness    = 299\n",
      "Change     = 0\n",
      "Generation = 12\n",
      "Fitness    = 299\n",
      "Change     = 0\n",
      "Generation = 13\n",
      "Fitness    = 299\n",
      "Change     = 0\n",
      "Generation = 14\n",
      "Fitness    = 299\n",
      "Change     = 0\n",
      "Generation = 15\n",
      "Fitness    = 299\n",
      "Change     = 0\n",
      "Generation = 16\n",
      "Fitness    = 299\n",
      "Change     = 0\n",
      "Generation = 17\n",
      "Fitness    = 299\n",
      "Change     = 0\n",
      "Generation = 18\n",
      "Fitness    = 299\n",
      "Change     = 0\n",
      "Generation = 19\n",
      "Fitness    = 299\n",
      "Change     = 0\n",
      "Generation = 20\n",
      "Fitness    = 299\n",
      "Change     = 0\n",
      "Generation = 21\n",
      "Fitness    = 299\n",
      "Change     = 0\n",
      "Generation = 22\n",
      "Fitness    = 299\n",
      "Change     = 0\n",
      "Generation = 23\n",
      "Fitness    = 299\n",
      "Change     = 0\n",
      "Generation = 24\n",
      "Fitness    = 299\n",
      "Change     = 0\n",
      "Generation = 25\n",
      "Fitness    = 299\n",
      "Change     = 0\n",
      "Generation = 26\n",
      "Fitness    = 299\n",
      "Change     = 0\n",
      "Generation = 27\n",
      "Fitness    = 299\n",
      "Change     = 0\n",
      "Generation = 28\n",
      "Fitness    = 299\n",
      "Change     = 0\n",
      "Generation = 29\n",
      "Fitness    = 299\n",
      "Change     = 0\n",
      "Generation = 30\n",
      "Fitness    = 299\n",
      "Change     = 0\n"
     ]
    },
    {
     "data": {
      "image/png": "[encoded data removed]",
      "text/plain": [
       "<Figure size 640x480 with 1 Axes>"
      ]
     },
     "metadata": {},
     "output_type": "display_data"
    }
   ],
   "source": [
    "ga_instance.run()\n",
    "\n",
    "ga_instance.plot_result()\n",
    "\n",
    "solution, solution_fitness, solution_idx = ga_instance.best_solution()"
   ]
  },
  {
   "cell_type": "code",
   "execution_count": 46,
   "id": "f9ff501a",
   "metadata": {},
   "outputs": [
    {
     "name": "stdout",
     "output_type": "stream",
     "text": [
      "Parameters of the best solution : [1 0 0 0 0]\n",
      "Fitness value of the best solution = 299\n",
      "Index of the best solution : 0\n",
      "Best fitness value reached after 1 generations.\n"
     ]
    }
   ],
   "source": [
    "print(\"Parameters of the best solution : {solution}\".format(solution=solution))\n",
    "print(\"Fitness value of the best solution = {solution_fitness}\".format(solution_fitness=solution_fitness))\n",
    "print(\"Index of the best solution : {solution_idx}\".format(solution_idx=solution_idx))\n",
    "\n",
    "#prediction = numpy.sum(numpy.array(function_inputs)*solution)\n",
    "#print(\"Predicted output based on the best solution : {prediction}\".format(prediction=prediction))\n",
    "\n",
    "if ga_instance.best_solution_generation != -1:\n",
    "    print(\"Best fitness value reached after {best_solution_generation} generations.\".format(best_solution_generation=ga_instance.best_solution_generation))"
   ]
  },
  {
   "cell_type": "code",
   "execution_count": 33,
   "id": "7172235d",
   "metadata": {},
   "outputs": [
    {
     "name": "stdout",
     "output_type": "stream",
     "text": [
      "Número decimal: 16\n",
      "299\n",
      "300\n"
     ]
    }
   ],
   "source": [
    "\n",
    "\n",
    "binario = np.array([1, 0, 0, 0, 0])\n",
    "binario2 = np.array([0, 1, 1, 1, 1])\n",
    "decimal = bin2dec(binario)\n",
    "print(\"Número decimal:\", decimal)\n",
    "\n",
    "print(fitness_func(binario, 1))\n",
    "print(fitness_func(binario2, 1))"
   ]
  }
 ],
 "metadata": {
  "kernelspec": {
   "display_name": "Python 3 (ipykernel)",
   "language": "python",
   "name": "python3"
  },
  "language_info": {
   "codemirror_mode": {
    "name": "ipython",
    "version": 3
   },
   "file_extension": ".py",
   "mimetype": "text/x-python",
   "name": "python",
   "nbconvert_exporter": "python",
   "pygments_lexer": "ipython3",
   "version": "3.11.4"
  }
 },
 "nbformat": 4,
 "nbformat_minor": 5
}
