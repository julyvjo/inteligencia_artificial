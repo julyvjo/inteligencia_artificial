{
 "cells": [
  {
   "attachments": {},
   "cell_type": "markdown",
   "id": "7b578cae",
   "metadata": {},
   "source": [
    "#Prooblema 2"
   ]
  },
  {
   "cell_type": "markdown",
   "id": "ea25199f",
   "metadata": {},
   "source": [
    "#Reglas\n",
    "\n",
    "if humedad baja OR existencia de malezas abundante THEN horas de riego muchas\n",
    "if humedad alta AND existencia de malezas escasa THEN horas de riego pocas\n",
    "\n",
    "metodo bisector o centroide"
   ]
  }
 ],
 "metadata": {
  "kernelspec": {
   "display_name": "Python 3 (ipykernel)",
   "language": "python",
   "name": "python3"
  },
  "language_info": {
   "codemirror_mode": {
    "name": "ipython",
    "version": 3
   },
   "file_extension": ".py",
   "mimetype": "text/x-python",
   "name": "python",
   "nbconvert_exporter": "python",
   "pygments_lexer": "ipython3",
   "version": "3.11.4"
  }
 },
 "nbformat": 4,
 "nbformat_minor": 5
}
